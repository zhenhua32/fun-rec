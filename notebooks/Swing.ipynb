{
 "cells": [
  {
   "cell_type": "code",
   "execution_count": 1,
   "metadata": {},
   "outputs": [],
   "source": [
    "from itertools import combinations\n",
    "import pandas as pd"
   ]
  },
  {
   "cell_type": "code",
   "execution_count": 2,
   "metadata": {},
   "outputs": [],
   "source": [
    "alpha = 0.5\n",
    "top_k = 20\n",
    "def load_data(train_path):\n",
    "    \"\"\"\n",
    "    这个文件有三列, 分别是 用户id, 物品id, 评分\n",
    "    \"\"\"\n",
    "    train_data = pd.read_csv(train_path, sep=\"\\t\", engine=\"python\", names=[\"userid\", \"itemid\", \"rate\"]) # 提取用户交互记录数据\n",
    "    print(train_data.head(3))\n",
    "    return train_data"
   ]
  },
  {
   "cell_type": "code",
   "execution_count": 9,
   "metadata": {},
   "outputs": [],
   "source": [
    "def get_uitems_iusers(train: pd.DataFrame):\n",
    "    \"\"\"\n",
    "    获取用户交互过的item集合, item被交互过的user集合\n",
    "    \"\"\"\n",
    "    u_items = dict()  # key 是用户id, value 是用户交互过的item集合\n",
    "    i_users = dict()  # key 是item id, value 是item被交互过的user集合\n",
    "    for index, row in train.iterrows():  # 处理用户交互记录\n",
    "        u_items.setdefault(row[\"userid\"], set())\n",
    "        i_users.setdefault(row[\"itemid\"], set())\n",
    "        u_items[row[\"userid\"]].add(row[\"itemid\"])  # 得到user交互过的所有item\n",
    "        i_users[row[\"itemid\"]].add(row[\"userid\"])  # 得到item交互过的所有user\n",
    "    print(\"使用的用户个数为：{}\".format(len(u_items)))\n",
    "    print(\"使用的item个数为：{}\".format(len(i_users)))\n",
    "    return u_items, i_users"
   ]
  },
  {
   "cell_type": "code",
   "execution_count": 12,
   "metadata": {},
   "outputs": [],
   "source": [
    "def swing_model(u_items: dict, i_users: dict):\n",
    "    \"\"\"\n",
    "    遍历所有的物品对, 计算物品相似度.\n",
    "    物品相似度的计算公式为:\n",
    "    对每个物品对, 找到和这两个物品都有交互的用户, 然后计算这些用户的商品交集, 1/(alpha + 交集的长度), 然后求和\n",
    "    sim(i, j) = sum(1 / (alpha + |N(u) ∩ N(v)|)) for all u, v in N(i) ∩ N(j)\n",
    "    \"\"\"\n",
    "    # print([i for i in i_users.values()][:5])\n",
    "    # print([i for i in u_items.values()][:5])\n",
    "    # 这是物品间的两两组合\n",
    "    item_pairs = list(combinations(i_users.keys(), 2))  # 全排列组合对\n",
    "    print(\"item pairs length：{}\".format(len(item_pairs)))\n",
    "    # 构建物品的相似度字典\n",
    "    item_sim_dict = dict()\n",
    "    for i, j in item_pairs:\n",
    "        # 这是用户的组合, i_users[i] & i_users[j] 是两个物品都有交互的用户\n",
    "        user_pairs = list(combinations(i_users[i] & i_users[j], 2))  # item_i和item_j对应的user取交集后全排列 得到user对\n",
    "        result = 0\n",
    "        for u, v in user_pairs:\n",
    "            # 用户 u 和 v 交互过的物品交集\n",
    "            result += 1 / (alpha + list(u_items[u] & u_items[v]).__len__())  # 分数公式\n",
    "        if result != 0:\n",
    "            item_sim_dict.setdefault(i, dict())\n",
    "            # 保留6位小数, 保存 item_i 和 item_j 的相似度\n",
    "            item_sim_dict[i][j] = format(result, \".6f\")\n",
    "    return item_sim_dict"
   ]
  },
  {
   "cell_type": "code",
   "execution_count": null,
   "metadata": {},
   "outputs": [],
   "source": [
    "def save_item_sims(item_sim_dict: dict, top_k: int, path: str):\n",
    "    new_item_sim_dict = dict()\n",
    "    try:\n",
    "        writer = open(path, 'w', encoding='utf-8')\n",
    "        # 对每个商品和它的相似商品\n",
    "        for item, sim_items in item_sim_dict.items():\n",
    "            new_item_sim_dict.setdefault(item, dict())\n",
    "            # 按照相似度排序, 取出 top_k个相似的item\n",
    "            new_item_sim_dict[item] = dict(sorted(sim_items.items(), key = lambda k:k[1], reverse=True)[:top_k])#排序取出 top_k个相似的item\n",
    "            writer.write('item_id:%d\\t%s\\n' % (item, new_item_sim_dict[item]))\n",
    "        print(\"SUCCESS: top_{} item saved\".format(top_k))\n",
    "    except Exception as e:\n",
    "        print(e.args)"
   ]
  },
  {
   "cell_type": "code",
   "execution_count": null,
   "metadata": {},
   "outputs": [],
   "source": [
    "if __name__ == \"__main__\":\n",
    "    train_data_path = \"./ratings_final.txt\"\n",
    "    item_sim_save_path = \"./item_sim_dict.txt\"\n",
    "    top_k = 10 #与item相似的前 k 个item\n",
    "    train = load_data(train_data_path)\n",
    "    u_items, i_users = get_uitems_iusers(train)\n",
    "    item_sim_dict = swing_model(u_items, i_users)\n",
    "    save_item_sims(item_sim_dict, top_k, item_sim_save_path)"
   ]
  }
 ],
 "metadata": {
  "kernelspec": {
   "display_name": "venv",
   "language": "python",
   "name": "python3"
  },
  "language_info": {
   "codemirror_mode": {
    "name": "ipython",
    "version": 3
   },
   "file_extension": ".py",
   "mimetype": "text/x-python",
   "name": "python",
   "nbconvert_exporter": "python",
   "pygments_lexer": "ipython3",
   "version": "3.9.7"
  },
  "orig_nbformat": 4
 },
 "nbformat": 4,
 "nbformat_minor": 2
}
