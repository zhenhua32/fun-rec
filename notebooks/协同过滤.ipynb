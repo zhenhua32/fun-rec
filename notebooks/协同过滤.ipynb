{
 "cells": [
  {
   "cell_type": "code",
   "execution_count": 2,
   "metadata": {},
   "outputs": [],
   "source": [
    "import os\n",
    "import json\n",
    "\n",
    "import pandas as pd\n",
    "import numpy as np"
   ]
  },
  {
   "attachments": {},
   "cell_type": "markdown",
   "metadata": {},
   "source": [
    "# 基于用户的协同过滤"
   ]
  },
  {
   "cell_type": "code",
   "execution_count": 3,
   "metadata": {},
   "outputs": [],
   "source": [
    "def load_data():\n",
    "    users = {\n",
    "        \"Alice\": {\"A\": 5, \"B\": 3, \"C\": 4, \"D\": 4},\n",
    "        \"user1\": {\"A\": 3, \"B\": 1, \"C\": 2, \"D\": 3, \"E\": 3},\n",
    "        \"user2\": {\"A\": 4, \"B\": 3, \"C\": 4, \"D\": 3, \"E\": 5},\n",
    "        \"user3\": {\"A\": 3, \"B\": 3, \"C\": 1, \"D\": 5, \"E\": 4},\n",
    "        \"user4\": {\"A\": 1, \"B\": 5, \"C\": 5, \"D\": 2, \"E\": 1},\n",
    "    }\n",
    "    return users\n"
   ]
  },
  {
   "cell_type": "code",
   "execution_count": 4,
   "metadata": {},
   "outputs": [
    {
     "data": {
      "text/html": [
       "<div>\n",
       "<style scoped>\n",
       "    .dataframe tbody tr th:only-of-type {\n",
       "        vertical-align: middle;\n",
       "    }\n",
       "\n",
       "    .dataframe tbody tr th {\n",
       "        vertical-align: top;\n",
       "    }\n",
       "\n",
       "    .dataframe thead th {\n",
       "        text-align: right;\n",
       "    }\n",
       "</style>\n",
       "<table border=\"1\" class=\"dataframe\">\n",
       "  <thead>\n",
       "    <tr style=\"text-align: right;\">\n",
       "      <th></th>\n",
       "      <th>Alice</th>\n",
       "      <th>user1</th>\n",
       "      <th>user2</th>\n",
       "      <th>user3</th>\n",
       "      <th>user4</th>\n",
       "    </tr>\n",
       "  </thead>\n",
       "  <tbody>\n",
       "    <tr>\n",
       "      <th>Alice</th>\n",
       "      <td>1.0</td>\n",
       "      <td>0.0</td>\n",
       "      <td>0.0</td>\n",
       "      <td>0.0</td>\n",
       "      <td>0.0</td>\n",
       "    </tr>\n",
       "    <tr>\n",
       "      <th>user1</th>\n",
       "      <td>0.0</td>\n",
       "      <td>1.0</td>\n",
       "      <td>0.0</td>\n",
       "      <td>0.0</td>\n",
       "      <td>0.0</td>\n",
       "    </tr>\n",
       "    <tr>\n",
       "      <th>user2</th>\n",
       "      <td>0.0</td>\n",
       "      <td>0.0</td>\n",
       "      <td>1.0</td>\n",
       "      <td>0.0</td>\n",
       "      <td>0.0</td>\n",
       "    </tr>\n",
       "    <tr>\n",
       "      <th>user3</th>\n",
       "      <td>0.0</td>\n",
       "      <td>0.0</td>\n",
       "      <td>0.0</td>\n",
       "      <td>1.0</td>\n",
       "      <td>0.0</td>\n",
       "    </tr>\n",
       "    <tr>\n",
       "      <th>user4</th>\n",
       "      <td>0.0</td>\n",
       "      <td>0.0</td>\n",
       "      <td>0.0</td>\n",
       "      <td>0.0</td>\n",
       "      <td>1.0</td>\n",
       "    </tr>\n",
       "  </tbody>\n",
       "</table>\n",
       "</div>"
      ],
      "text/plain": [
       "       Alice  user1  user2  user3  user4\n",
       "Alice    1.0    0.0    0.0    0.0    0.0\n",
       "user1    0.0    1.0    0.0    0.0    0.0\n",
       "user2    0.0    0.0    1.0    0.0    0.0\n",
       "user3    0.0    0.0    0.0    1.0    0.0\n",
       "user4    0.0    0.0    0.0    0.0    1.0"
      ]
     },
     "execution_count": 4,
     "metadata": {},
     "output_type": "execute_result"
    }
   ],
   "source": [
    "user_data = load_data()\n",
    "similarity_matrix = pd.DataFrame(\n",
    "    # 创建一个单位矩阵\n",
    "    np.identity(len(user_data)),\n",
    "    index=user_data.keys(),\n",
    "    columns=user_data.keys(),\n",
    ")\n",
    "similarity_matrix"
   ]
  },
  {
   "cell_type": "code",
   "execution_count": 8,
   "metadata": {},
   "outputs": [
    {
     "name": "stdout",
     "output_type": "stream",
     "text": [
      "          Alice     user1     user2     user3     user4\n",
      "Alice  1.000000  0.852803  0.707107  0.000000 -0.792118\n",
      "user1  0.852803  1.000000  0.467707  0.489956 -0.900149\n",
      "user2  0.707107  0.467707  1.000000 -0.161165 -0.466569\n",
      "user3  0.000000  0.489956 -0.161165  1.000000 -0.641503\n",
      "user4 -0.792118 -0.900149 -0.466569 -0.641503  1.000000\n"
     ]
    }
   ],
   "source": [
    "# 遍历每条用户-物品评分数据\n",
    "for u1, items1 in user_data.items():\n",
    "    for u2, items2 in user_data.items():\n",
    "        if u1 == u2:\n",
    "            continue\n",
    "        # 获取两个用户都评分的物品\n",
    "        # vec1 和 vec2 分别存储两个用户对物品的评分\n",
    "        vec1, vec2 = [], []\n",
    "        for item, rating1 in items1.items():\n",
    "            rating2 = items2.get(item, -1)\n",
    "            if rating2 == -1:\n",
    "                continue\n",
    "            vec1.append(rating1)\n",
    "            vec2.append(rating2)\n",
    "        # 计算不同用户之间的皮尔逊相关系数\n",
    "        # corrcoef 函数返回一个相关系数矩阵，它的对角线元素是各个变量自身的相关系数（都是1），其余元素是不同变量之间的相关系数。\n",
    "        similarity_matrix[u1][u2] = np.corrcoef(vec1, vec2)[0][1]\n",
    "\n",
    "print(similarity_matrix)"
   ]
  },
  {
   "cell_type": "code",
   "execution_count": 10,
   "metadata": {},
   "outputs": [
    {
     "name": "stdout",
     "output_type": "stream",
     "text": [
      "与用户Alice最相似的2个用户为：['user1', 'user2']\n"
     ]
    }
   ],
   "source": [
    "target_user = \"Alice\"\n",
    "num = 2\n",
    "# 由于最相似的用户为自己，去除本身. 获取当前用户和其他用户的相似度所在的行, 然后按相似度排序, 排除自身后取前num个用户\n",
    "sim_users = similarity_matrix[target_user].sort_values(ascending=False)[1:num+1].index.tolist()\n",
    "print(f'与用户{target_user}最相似的{num}个用户为：{sim_users}')"
   ]
  },
  {
   "cell_type": "code",
   "execution_count": 11,
   "metadata": {},
   "outputs": [
    {
     "name": "stdout",
     "output_type": "stream",
     "text": [
      "用户Alice对物品E的预测评分为：4.871979899370592\n"
     ]
    }
   ],
   "source": [
    "weighted_scores = 0.  # 总的加权评分\n",
    "corr_values_sum = 0.  # 总的相似度\n",
    "\n",
    "target_item = \"E\"\n",
    "# 基于皮尔逊相关系数预测用户评分, 用 topK 相似用户\n",
    "for user in sim_users:\n",
    "    # 当前用户和目标用户的相似度\n",
    "    corr_value = similarity_matrix[target_user][user]\n",
    "    # 用户打分的均值\n",
    "    user_mean_rating = np.mean(list(user_data[user].values()))\n",
    "\n",
    "    # 当前用户对目标物品的评分\n",
    "    weighted_scores += corr_value * (user_data[user][target_item] - user_mean_rating)\n",
    "    corr_values_sum += corr_value\n",
    "\n",
    "# 目标用户的打分均值\n",
    "target_user_mean_rating = np.mean(list(user_data[target_user].values()))\n",
    "target_item_pred = target_user_mean_rating + weighted_scores / corr_values_sum\n",
    "print(f'用户{target_user}对物品{target_item}的预测评分为：{target_item_pred}')"
   ]
  },
  {
   "attachments": {},
   "cell_type": "markdown",
   "metadata": {},
   "source": [
    "# 基于物品的协同过滤"
   ]
  },
  {
   "cell_type": "code",
   "execution_count": 13,
   "metadata": {},
   "outputs": [],
   "source": [
    "def load_data():\n",
    "    \"\"\"\n",
    "    和上面的同名函数不一样, 这里的 key 是 item, value 是 user 对 item 的评分\n",
    "    \"\"\"\n",
    "    items = {\n",
    "        \"A\": {\"Alice\": 5.0, \"user1\": 3.0, \"user2\": 4.0, \"user3\": 3.0, \"user4\": 1.0},\n",
    "        \"B\": {\"Alice\": 3.0, \"user1\": 1.0, \"user2\": 3.0, \"user3\": 3.0, \"user4\": 5.0},\n",
    "        \"C\": {\"Alice\": 4.0, \"user1\": 2.0, \"user2\": 4.0, \"user3\": 1.0, \"user4\": 5.0},\n",
    "        \"D\": {\"Alice\": 4.0, \"user1\": 3.0, \"user2\": 3.0, \"user3\": 5.0, \"user4\": 2.0},\n",
    "        \"E\": {\"user1\": 3.0, \"user2\": 5.0, \"user3\": 4.0, \"user4\": 1.0},\n",
    "    }\n",
    "    return items"
   ]
  },
  {
   "cell_type": "code",
   "execution_count": 14,
   "metadata": {},
   "outputs": [
    {
     "name": "stdout",
     "output_type": "stream",
     "text": [
      "          A         B         C         D         E\n",
      "A  1.000000 -0.476731 -0.123091  0.532181  0.969458\n",
      "B -0.476731  1.000000  0.645497 -0.310087 -0.478091\n",
      "C -0.123091  0.645497  1.000000 -0.720577 -0.427618\n",
      "D  0.532181 -0.310087 -0.720577  1.000000  0.581675\n",
      "E  0.969458 -0.478091 -0.427618  0.581675  1.000000\n"
     ]
    }
   ],
   "source": [
    "item_data = load_data()\n",
    "\n",
    "similarity_matrix = pd.DataFrame(\n",
    "    np.identity(len(item_data)),\n",
    "    index=item_data.keys(),\n",
    "    columns=item_data.keys(),\n",
    ")\n",
    "\n",
    "# 遍历每条物品-用户评分数据\n",
    "for i1, users1 in item_data.items():\n",
    "    for i2, users2 in item_data.items():\n",
    "        if i1 == i2:\n",
    "            continue\n",
    "        # vec1 和 vec2 分别存储不同用户对这两个物品的评分\n",
    "        vec1, vec2 = [], []\n",
    "        for user, rating1 in users1.items():\n",
    "            rating2 = users2.get(user, -1)\n",
    "            if rating2 == -1:\n",
    "                continue\n",
    "            vec1.append(rating1)\n",
    "            vec2.append(rating2)\n",
    "        # 计算不同物品之间的皮尔逊相关系数\n",
    "        similarity_matrix[i1][i2] = np.corrcoef(vec1, vec2)[0][1]\n",
    "\n",
    "print(similarity_matrix)"
   ]
  },
  {
   "cell_type": "code",
   "execution_count": 16,
   "metadata": {},
   "outputs": [
    {
     "name": "stdout",
     "output_type": "stream",
     "text": [
      "与物品E最相似的2个物品为：['A', 'D']\n"
     ]
    }
   ],
   "source": [
    "target_user = \"Alice\"\n",
    "target_item = \"E\"\n",
    "num = 2\n",
    "\n",
    "sim_items = []\n",
    "# 获取和目标物品最相似的num个物品\n",
    "sim_items_list = similarity_matrix[target_item].sort_values(ascending=False).index.tolist()\n",
    "for item in sim_items_list:\n",
    "    # 如果target_user对物品item评分过\n",
    "    if target_user in item_data[item]:\n",
    "        sim_items.append(item)\n",
    "    # 取目标用户打分过的最相似的 num 个物品\n",
    "    if len(sim_items) == num:\n",
    "        break\n",
    "print(f'与物品{target_item}最相似的{num}个物品为：{sim_items}')"
   ]
  },
  {
   "cell_type": "code",
   "execution_count": 19,
   "metadata": {},
   "outputs": [
    {
     "name": "stdout",
     "output_type": "stream",
     "text": [
      "用户Alice对物品E的预测评分为：4.6\n"
     ]
    }
   ],
   "source": [
    "# 目前物品的打分均值\n",
    "target_item_mean_rating = np.mean(list(item_data[target_item].values()))\n",
    "weighted_scores = 0.\n",
    "corr_values_sum = 0.\n",
    "\n",
    "target_item = \"E\"\n",
    "for item in sim_items:\n",
    "    corr_value = similarity_matrix[target_item][item]\n",
    "    item_mean_rating = np.mean(list(item_data[item].values()))\n",
    "\n",
    "    weighted_scores += corr_value * (item_data[item][target_user] - item_mean_rating)\n",
    "    corr_values_sum += corr_value\n",
    "\n",
    "target_item_pred = target_item_mean_rating + weighted_scores / corr_values_sum\n",
    "print(f'用户{target_user}对物品{target_item}的预测评分为：{target_item_pred}')"
   ]
  },
  {
   "cell_type": "code",
   "execution_count": null,
   "metadata": {},
   "outputs": [],
   "source": []
  }
 ],
 "metadata": {
  "kernelspec": {
   "display_name": "venv",
   "language": "python",
   "name": "python3"
  },
  "language_info": {
   "codemirror_mode": {
    "name": "ipython",
    "version": 3
   },
   "file_extension": ".py",
   "mimetype": "text/x-python",
   "name": "python",
   "nbconvert_exporter": "python",
   "pygments_lexer": "ipython3",
   "version": "3.9.7"
  },
  "orig_nbformat": 4
 },
 "nbformat": 4,
 "nbformat_minor": 2
}
